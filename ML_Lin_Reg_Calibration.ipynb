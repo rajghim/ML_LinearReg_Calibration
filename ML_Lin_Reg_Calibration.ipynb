{
 "cells": [
  {
   "cell_type": "markdown",
   "metadata": {},
   "source": [
    "## Linear Regression for Si-Calibration using 228Th Alpha Lines"
   ]
  },
  {
   "cell_type": "code",
   "execution_count": 1,
   "metadata": {},
   "outputs": [],
   "source": [
    "import pandas as pd\n",
    "import numpy as np\n",
    "import uproot3 as uproot\n",
    "from sklearn import linear_model\n",
    "from sklearn.preprocessing import OneHotEncoder\n",
    "from sklearn.compose import ColumnTransformer"
   ]
  },
  {
   "cell_type": "markdown",
   "metadata": {},
   "source": [
    "### Opening the fitted calibration file as training data"
   ]
  },
  {
   "cell_type": "code",
   "execution_count": 2,
   "metadata": {},
   "outputs": [
    {
     "data": {
      "text/html": [
       "<div>\n",
       "<style scoped>\n",
       "    .dataframe tbody tr th:only-of-type {\n",
       "        vertical-align: middle;\n",
       "    }\n",
       "\n",
       "    .dataframe tbody tr th {\n",
       "        vertical-align: top;\n",
       "    }\n",
       "\n",
       "    .dataframe thead th {\n",
       "        text-align: right;\n",
       "    }\n",
       "</style>\n",
       "<table border=\"1\" class=\"dataframe\">\n",
       "  <thead>\n",
       "    <tr style=\"text-align: right;\">\n",
       "      <th></th>\n",
       "      <th>RingNumber</th>\n",
       "      <th>ADC</th>\n",
       "      <th>Energy</th>\n",
       "    </tr>\n",
       "  </thead>\n",
       "  <tbody>\n",
       "    <tr>\n",
       "      <th>0</th>\n",
       "      <td>0</td>\n",
       "      <td>1757.42</td>\n",
       "      <td>5.42308</td>\n",
       "    </tr>\n",
       "    <tr>\n",
       "      <th>1</th>\n",
       "      <td>0</td>\n",
       "      <td>1838.10</td>\n",
       "      <td>5.68537</td>\n",
       "    </tr>\n",
       "    <tr>\n",
       "      <th>2</th>\n",
       "      <td>0</td>\n",
       "      <td>2024.71</td>\n",
       "      <td>6.28800</td>\n",
       "    </tr>\n",
       "    <tr>\n",
       "      <th>3</th>\n",
       "      <td>0</td>\n",
       "      <td>2176.67</td>\n",
       "      <td>6.77830</td>\n",
       "    </tr>\n",
       "    <tr>\n",
       "      <th>4</th>\n",
       "      <td>0</td>\n",
       "      <td>2797.00</td>\n",
       "      <td>8.78412</td>\n",
       "    </tr>\n",
       "  </tbody>\n",
       "</table>\n",
       "</div>"
      ],
      "text/plain": [
       "   RingNumber      ADC   Energy\n",
       "0           0  1757.42  5.42308\n",
       "1           0  1838.10  5.68537\n",
       "2           0  2024.71  6.28800\n",
       "3           0  2176.67  6.77830\n",
       "4           0  2797.00  8.78412"
      ]
     },
     "execution_count": 2,
     "metadata": {},
     "output_type": "execute_result"
    }
   ],
   "source": [
    "df_train = pd.read_csv(\"InputFile/SiCalibration.csv\")\n",
    "\n",
    "dummy = pd.DataFrame()\n",
    "dummy['RingNumber'] = np.arange(32)\n",
    "dummy = dummy.loc[dummy.index.repeat(5)].reset_index(drop=True)\n",
    "\n",
    "df_train = pd.concat([dummy, df_train], axis=1)\n",
    "df_train.head()"
   ]
  },
  {
   "cell_type": "markdown",
   "metadata": {},
   "source": [
    "### Regression Model"
   ]
  },
  {
   "cell_type": "code",
   "execution_count": 3,
   "metadata": {},
   "outputs": [],
   "source": [
    "# Linear Reg Model\n",
    "RegMo = linear_model.LinearRegression()"
   ]
  },
  {
   "cell_type": "markdown",
   "metadata": {},
   "source": [
    "### One Hot Encoder "
   ]
  },
  {
   "cell_type": "code",
   "execution_count": 4,
   "metadata": {},
   "outputs": [
    {
     "data": {
      "text/plain": [
       "LinearRegression(copy_X=True, fit_intercept=True, n_jobs=None, normalize=False)"
      ]
     },
     "execution_count": 4,
     "metadata": {},
     "output_type": "execute_result"
    }
   ],
   "source": [
    "# Using One Hot Encoder to convert the categorical variable (Ring Number)\n",
    "ct = ColumnTransformer([('RingNumber', OneHotEncoder(), [0])], remainder = 'passthrough')\n",
    "\n",
    "X_train = df_train.iloc[:,:2]\n",
    "Y_train = df_train.iloc[:,2:]\n",
    "X_train = ct.fit_transform(X_train)\n",
    "\n",
    "RegMo.fit(X_train,Y_train)"
   ]
  },
  {
   "cell_type": "markdown",
   "metadata": {},
   "source": [
    "### Opening an alpha run root file to test the model with real data\n"
   ]
  },
  {
   "cell_type": "code",
   "execution_count": 5,
   "metadata": {},
   "outputs": [],
   "source": [
    "InputFile = uproot.open(\"InputFile/CalData.root\")\n",
    "InputFile.keys()\n",
    "InputTree=InputFile[\"DataTree\"]\n",
    "InputTree.keys()\n",
    "InputTree.arrays([\"RingNum\",\"ADCValue\"])\n",
    "df_test = InputTree.pandas.df([\"RingNum*\",\"ADCValue*\"])\n",
    "df_test = df_test[df_test['ADCValue'] >= 1200]"
   ]
  },
  {
   "cell_type": "markdown",
   "metadata": {},
   "source": [
    "### One Hot Encoder"
   ]
  },
  {
   "cell_type": "code",
   "execution_count": 6,
   "metadata": {},
   "outputs": [],
   "source": [
    "# Using One Hot Encoder to convert the categorical variable (Ring Number)\n",
    "ct = ColumnTransformer([('RingNum', OneHotEncoder(), [0])], remainder = 'passthrough')\n",
    "X_test = df_test\n",
    "X_test = ct.fit_transform(X_test)\n",
    "df_test['EnergyPredicted'] = RegMo.predict(X_test)"
   ]
  },
  {
   "cell_type": "code",
   "execution_count": 7,
   "metadata": {},
   "outputs": [
    {
     "data": {
      "text/plain": [
       "Text(0.5, 1.0, 'After Calibration')"
      ]
     },
     "execution_count": 7,
     "metadata": {},
     "output_type": "execute_result"
    },
    {
     "data": {
      "image/png": "[encoded data removed]",
      "text/plain": [
       "<Figure size 1296x360 with 2 Axes>"
      ]
     },
     "metadata": {
      "needs_background": "light"
     },
     "output_type": "display_data"
    }
   ],
   "source": [
    "#Plotting Histograms\n",
    "hist = df_test[['ADCValue','EnergyPredicted']].hist(bins=500, figsize = (18,5), grid=False)\n",
    "hist[0][0].set_xlabel(\"ADC (Channel Num)\",fontsize=16)\n",
    "hist[0][1].set_xlabel(\"Alpha Energy (MeV)\",fontsize=16)\n",
    "hist[0][0].set_title(\"Before Calibration\",fontsize=18,fontweight=\"bold\")\n",
    "hist[0][1].set_title(\"After Calibration\",fontsize=18,fontweight=\"bold\")"
   ]
  }
 ],
 "metadata": {
  "kernelspec": {
   "display_name": "Python 3",
   "language": "python",
   "name": "python3"
  },
  "language_info": {
   "codemirror_mode": {
    "name": "ipython",
    "version": 3
   },
   "file_extension": ".py",
   "mimetype": "text/x-python",
   "name": "python",
   "nbconvert_exporter": "python",
   "pygments_lexer": "ipython3",
   "version": "3.6.9"
  }
 },
 "nbformat": 4,
 "nbformat_minor": 4
}
